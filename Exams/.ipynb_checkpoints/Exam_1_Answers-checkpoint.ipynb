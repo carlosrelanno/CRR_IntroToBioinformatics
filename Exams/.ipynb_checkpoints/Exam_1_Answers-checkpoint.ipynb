{
 "cells": [
  {
   "cell_type": "markdown",
   "metadata": {},
   "source": [
    "## Problem 2:\n",
    "The command ls shows the elements in one particular directory. The flag -l allows us to see various file details, such as the ownership (user and group). The flag -h allows us to see the size of the files in a human-readable form.\n"
   ]
  },
  {
   "cell_type": "code",
   "execution_count": 1,
   "metadata": {},
   "outputs": [
    {
     "name": "stdout",
     "output_type": "stream",
     "text": [
      "total 1.2M\n",
      "-rw-rw-r-- 1 osboxes osboxes 3.5K Sep  6 07:03 Exam_1_Answers.ipynb\n",
      "-rw-rw-r-- 1 osboxes osboxes 1.2M Sep  6 07:06 Locus_Germplasm_Phenotype_20130122.txt\n"
     ]
    }
   ],
   "source": [
    "ls -lh"
   ]
  },
  {
   "cell_type": "markdown",
   "metadata": {},
   "source": [
    "Permissions: The user and the group can read and write all files at the folder. Other people (anyone) can only read these files."
   ]
  },
  {
   "cell_type": "markdown",
   "metadata": {},
   "source": [
    "## Problem 3: \n",
    "The command head allows us to see the first lines of a file. A flag with a number allows us to see the file lines up to that number. In this case, head -1 shows the first line."
   ]
  },
  {
   "cell_type": "code",
   "execution_count": 2,
   "metadata": {},
   "outputs": [
    {
     "name": "stdout",
     "output_type": "stream",
     "text": [
      "Locus_name)\tGermplasm_name\tphenotype\tpubmed_id\n"
     ]
    }
   ],
   "source": [
    "head -1 Locus_Germplasm_Phenotype_20130122.txt"
   ]
  },
  {
   "cell_type": "markdown",
   "metadata": {},
   "source": [
    "## Problem 4: \n",
    "The command wc (word count) shows us the number of lines, words and characters in a file. The flag -l allows us to see just the line count."
   ]
  },
  {
   "cell_type": "code",
   "execution_count": 18,
   "metadata": {},
   "outputs": [
    {
     "name": "stdout",
     "output_type": "stream",
     "text": [
      "7216 Locus_Germplasm_Phenotype_20130122.txt\n"
     ]
    }
   ],
   "source": [
    "wc -l Locus_Germplasm_Phenotype_20130122.txt"
   ]
  },
  {
   "cell_type": "markdown",
   "metadata": {},
   "source": [
    "## Problem 5:\n",
    "Checking the tail command documentation, it can be seen that the flag -n+A allows us to get the lines from A to the end. The expected number of lines is the one from Locus_Germplasm... minus 1.\n",
    "NOTE: I am removing all files (cleaning) generated at the end of each problem."
   ]
  },
  {
   "cell_type": "code",
   "execution_count": 31,
   "metadata": {},
   "outputs": [
    {
     "name": "stdout",
     "output_type": "stream",
     "text": [
      "7216 Locus_Germplasm_Phenotype_20130122.txt\n",
      "7215 Data_Only.csv\n"
     ]
    }
   ],
   "source": [
    "tail -n+2 Locus_Germplasm_Phenotype_20130122.txt > Data_Only.csv\n",
    "wc -l Locus_Germplasm_Phenotype_20130122.txt\n",
    "wc -l Data_Only.csv\n",
    "# Folder ceaning\n",
    "rm Data_Only.csv"
   ]
  },
  {
   "cell_type": "markdown",
   "metadata": {},
   "source": [
    "## Problem 6\n",
    "The grep command allows us to find all the matches of a specific string or regular expression within a file. The flag -i makes que search case insensitive and the flag -n shows the line number."
   ]
  },
  {
   "cell_type": "code",
   "execution_count": 2,
   "metadata": {
    "scrolled": false
   },
   "outputs": [],
   "source": [
    "grep -in 'root' Locus_Germplasm_Phenotype_20130122.txt"
   ]
  },
  {
   "cell_type": "markdown",
   "metadata": {},
   "source": [
    "## Problem 7\n",
    "First, we get all the lines that contain the word 'root' with the grep function (-i, case insensitive). Then, we pass that output to another grep function that will get the AGI locus codes. \n",
    "The regular expression contains ^ to indicate that the query is placed at the beginning of the line. \\w+ indicates one or more characters. \\s indicates that the query finishes with a space (in this case, a tab). The flag -E is neccessary o access to the extended regular expression characters, and -o allows us to get only the matching text (in this case, the AGI locus codes)."
   ]
  },
  {
   "cell_type": "code",
   "execution_count": 35,
   "metadata": {},
   "outputs": [],
   "source": [
    "grep -i 'root' Locus_Germplasm_Phenotype_20130122.txt | grep -Eo '^\\w+\\s' > Root-associated-Loci.txt\n",
    "# Control:\n",
    "# grep -i 'root' Locus_Germplasm_Phenotype_20130122.txt | head\n",
    "# head Root-associated-Loci.txt\n",
    "# Folder cleaning:\n",
    "rm Root-associated-Loci.txt"
   ]
  },
  {
   "cell_type": "markdown",
   "metadata": {},
   "source": [
    "## Problem 8\n",
    "First, we get all the lines that contain the word 'root' with the grep function (-i, case insensitive). Then, we pass that output to another grep function that will get the Pubmed IDs. \n",
    "The query contains one or more characters ([1-9]+) at the end of the line ($). \n",
    "The flag -E is neccessary o access to the extended regular expression characters, and -o allows us to get only the matching text (in this case, the Pubmed IDs)."
   ]
  },
  {
   "cell_type": "code",
   "execution_count": 51,
   "metadata": {},
   "outputs": [],
   "source": [
    "grep -i 'root' Locus_Germplasm_Phenotype_20130122.txt | grep -Eo '[0-9]+$' > Root-associated-Publications.txt\n",
    "# Control: is the Pubmed ID query working?\n",
    "# tail Root-associated-Publications.txt\n",
    "# grep -i 'root' Locus_Germplasm_Phenotype_20130122.txt | tail\n",
    "# The IDs are the same, OK\n",
    "\n",
    "# Folder cleaning\n",
    "rm Root-associated-Publications.txt"
   ]
  },
  {
   "cell_type": "markdown",
   "metadata": {},
   "source": [
    "## Problem 9\n",
    "First, we filter all the genes containing 'root' in their descriptions using the grep function. Then, we get only their locus codes ('^\\w+\\s'). After that, we obtain the first three characters, since the chromosome number is the third one ('^AT[0-9]'), and the first two are a/A and t/T. Finally, we count the number of lines (genes) containing the number of each chromosome, and display them."
   ]
  },
  {
   "cell_type": "markdown",
   "metadata": {},
   "source": [
    "These results show that, for this dataset, root related genes are found in all five chromosomes."
   ]
  },
  {
   "cell_type": "code",
   "execution_count": 31,
   "metadata": {},
   "outputs": [
    {
     "name": "stdout",
     "output_type": "stream",
     "text": [
      "Root related genes found in chromosomes:\n",
      "Chromosome 1\n",
      "218\n",
      "Chromosome 2\n",
      "183\n",
      "Chromosome 3\n",
      "127\n",
      "Chromosome 4\n",
      "73\n",
      "Chromosome 5\n",
      "239\n"
     ]
    }
   ],
   "source": [
    "grep -i 'root' Locus_Germplasm_Phenotype_20130122.txt | grep -Eo '^\\w+\\s' | grep -Eio '^AT[0-9]' > root_related_chromosomes.txt\n",
    "echo 'Root related genes found in chromosomes:'\n",
    "echo 'Chromosome 1'\n",
    "grep -c '1' root_related_chromosomes.txt\n",
    "echo 'Chromosome 2'\n",
    "grep -c '2' root_related_chromosomes.txt\n",
    "echo 'Chromosome 3'\n",
    "grep -c '3' root_related_chromosomes.txt\n",
    "echo 'Chromosome 4'\n",
    "grep -c '4' root_related_chromosomes.txt\n",
    "echo 'Chromosome 5'\n",
    "grep -c '5' root_related_chromosomes.txt\n",
    "# Folder cleaning\n",
    "rm root_related_chromosomes.txt"
   ]
  },
  {
   "cell_type": "markdown",
   "metadata": {},
   "source": [
    "## Problem 10\n",
    "The last problem shows root related genes in all chromosomes."
   ]
  }
 ],
 "metadata": {
  "kernelspec": {
   "display_name": "Bash",
   "language": "bash",
   "name": "bash"
  },
  "language_info": {
   "codemirror_mode": "shell",
   "file_extension": ".sh",
   "mimetype": "text/x-sh",
   "name": "bash"
  }
 },
 "nbformat": 4,
 "nbformat_minor": 2
}
