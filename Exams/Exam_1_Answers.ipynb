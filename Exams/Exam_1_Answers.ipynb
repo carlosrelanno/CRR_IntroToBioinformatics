{
 "cells": [
  {
   "cell_type": "markdown",
   "metadata": {},
   "source": [
    "## Problem 2:\n",
    "The command ls shows the elements in one particular directory. The flag -l allows us to see various file details, such as the ownership (user and group). The flag -h allows us to see the size of the files in a human-readable form.\n"
   ]
  },
  {
   "cell_type": "code",
   "execution_count": 4,
   "metadata": {},
   "outputs": [
    {
     "name": "stdout",
     "output_type": "stream",
     "text": [
      "total 2.4M\n",
      "-rw-rw-r-- 1 osboxes osboxes 1.2M Sep  6 06:03  conv.txt\n",
      "-rw-rw-r-- 1 osboxes osboxes  147 Sep  6 06:03  DISCLAIMER\n",
      "-rw-rw-r-- 1 osboxes osboxes 1.7K Sep  6 06:28  Exam_1_Answers.ipynb\n",
      "-rw-rw-r-- 1 osboxes osboxes 5.5K Sep  6 06:03 'Exam Week 1.ipynb'\n",
      "-rw-rw-r-- 1 osboxes osboxes 3.9K Sep  6 06:03 'Exam Week 2.ipynb'\n",
      "-rw-rw-r-- 1 osboxes osboxes 4.2K Sep  6 06:03  Germplasm.tsv\n",
      "-rw-rw-r-- 1 osboxes osboxes  141 Sep  6 06:03  how_to_convert.txt\n",
      "-rw-rw-r-- 1 osboxes osboxes 1.1K Sep  6 06:03  LICENSE\n",
      "-rw-rw-r-- 1 osboxes osboxes  637 Sep  6 06:03  LocusGene.tsv\n",
      "-rw-rw-r-- 1 osboxes osboxes 1.2M Sep  6 06:03  Locus_Germplasm_Phenotype_20130122.txt\n",
      "-rw-rw-r-- 1 osboxes osboxes  743 Sep  6 06:03  README.md\n"
     ]
    }
   ],
   "source": [
    "ls -lh"
   ]
  },
  {
   "cell_type": "markdown",
   "metadata": {},
   "source": [
    "Permissions: The user and the group can read and write all files at the folder. Other people (anyone) can only read these files."
   ]
  },
  {
   "cell_type": "markdown",
   "metadata": {},
   "source": [
    "## Problem 3: \n",
    "The command head allows us to see the first lines of a file. A flag with a number allows us to see the file lines up to that number. In this case, head -1 shows the first line."
   ]
  },
  {
   "cell_type": "code",
   "execution_count": 14,
   "metadata": {},
   "outputs": [
    {
     "name": "stdout",
     "output_type": "stream",
     "text": [
      "Locus_name)\tGermplasm_name\tphenotype\tpubmed_id\n"
     ]
    }
   ],
   "source": [
    "head -1 Locus_Germplasm_Phenotype_20130122.txt"
   ]
  },
  {
   "cell_type": "markdown",
   "metadata": {},
   "source": [
    "## Problem 4: \n",
    "The command wc (word count) shows us the number of lines, words and characters in a file. The flag -l allows us to see just the line count."
   ]
  },
  {
   "cell_type": "code",
   "execution_count": 16,
   "metadata": {},
   "outputs": [
    {
     "name": "stdout",
     "output_type": "stream",
     "text": [
      "7216 Locus_Germplasm_Phenotype_20130122.txt\n"
     ]
    }
   ],
   "source": [
    "wc -l Locus_Germplasm_Phenotype_20130122.txt"
   ]
  },
  {
   "cell_type": "markdown",
   "metadata": {},
   "source": [
    "## Problem 5:\n",
    "aaa"
   ]
  },
  {
   "cell_type": "code",
   "execution_count": 18,
   "metadata": {},
   "outputs": [
    {
     "name": "stdout",
     "output_type": "stream",
     "text": [
      "bash: syntax error near unexpected token `('\n"
     ]
    },
    {
     "ename": "",
     "evalue": "2",
     "output_type": "error",
     "traceback": []
    }
   ],
   "source": []
  }
 ],
 "metadata": {
  "kernelspec": {
   "display_name": "Bash",
   "language": "bash",
   "name": "bash"
  },
  "language_info": {
   "codemirror_mode": "shell",
   "file_extension": ".sh",
   "mimetype": "text/x-sh",
   "name": "bash"
  }
 },
 "nbformat": 4,
 "nbformat_minor": 2
}
